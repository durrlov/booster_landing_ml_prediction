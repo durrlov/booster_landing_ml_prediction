{
 "cells": [
  {
   "cell_type": "markdown",
   "id": "31c3334a",
   "metadata": {},
   "source": [
    "# Data Wrangling"
   ]
  },
  {
   "cell_type": "markdown",
   "id": "a5cacad2",
   "metadata": {},
   "source": [
    "## Required Libraries"
   ]
  },
  {
   "cell_type": "code",
   "execution_count": 1,
   "id": "fc2f7a70",
   "metadata": {},
   "outputs": [],
   "source": [
    "import pandas as pd\n",
    "import numpy as np\n",
    "import os\n",
    "import matplotlib.pyplot as plt\n",
    "import seaborn as sns"
   ]
  },
  {
   "cell_type": "markdown",
   "id": "79dfc429",
   "metadata": {},
   "source": [
    "## Import Dataset"
   ]
  },
  {
   "cell_type": "code",
   "execution_count": 2,
   "id": "2416df3b",
   "metadata": {},
   "outputs": [
    {
     "data": {
      "text/html": [
       "<div>\n",
       "<style scoped>\n",
       "    .dataframe tbody tr th:only-of-type {\n",
       "        vertical-align: middle;\n",
       "    }\n",
       "\n",
       "    .dataframe tbody tr th {\n",
       "        vertical-align: top;\n",
       "    }\n",
       "\n",
       "    .dataframe thead th {\n",
       "        text-align: right;\n",
       "    }\n",
       "</style>\n",
       "<table border=\"1\" class=\"dataframe\">\n",
       "  <thead>\n",
       "    <tr style=\"text-align: right;\">\n",
       "      <th></th>\n",
       "      <th>FlightNumber</th>\n",
       "      <th>Date</th>\n",
       "      <th>BoosterVersion</th>\n",
       "      <th>PayloadMass</th>\n",
       "      <th>Orbit</th>\n",
       "      <th>LaunchSite</th>\n",
       "      <th>Outcome</th>\n",
       "      <th>Flights</th>\n",
       "      <th>GridFins</th>\n",
       "      <th>Reused</th>\n",
       "      <th>Legs</th>\n",
       "      <th>LandingPad</th>\n",
       "      <th>Block</th>\n",
       "      <th>ReusedCount</th>\n",
       "      <th>Serial</th>\n",
       "      <th>Longitude</th>\n",
       "      <th>Latitude</th>\n",
       "    </tr>\n",
       "  </thead>\n",
       "  <tbody>\n",
       "    <tr>\n",
       "      <th>0</th>\n",
       "      <td>6</td>\n",
       "      <td>2010-06-04</td>\n",
       "      <td>Falcon 9</td>\n",
       "      <td>NaN</td>\n",
       "      <td>LEO</td>\n",
       "      <td>CCSFS SLC 40</td>\n",
       "      <td>0</td>\n",
       "      <td>1</td>\n",
       "      <td>False</td>\n",
       "      <td>False</td>\n",
       "      <td>False</td>\n",
       "      <td>NaN</td>\n",
       "      <td>1.0</td>\n",
       "      <td>0</td>\n",
       "      <td>B0003</td>\n",
       "      <td>-80.577366</td>\n",
       "      <td>28.561857</td>\n",
       "    </tr>\n",
       "    <tr>\n",
       "      <th>1</th>\n",
       "      <td>8</td>\n",
       "      <td>2012-05-22</td>\n",
       "      <td>Falcon 9</td>\n",
       "      <td>525.0</td>\n",
       "      <td>LEO</td>\n",
       "      <td>CCSFS SLC 40</td>\n",
       "      <td>0</td>\n",
       "      <td>1</td>\n",
       "      <td>False</td>\n",
       "      <td>False</td>\n",
       "      <td>False</td>\n",
       "      <td>NaN</td>\n",
       "      <td>1.0</td>\n",
       "      <td>0</td>\n",
       "      <td>B0005</td>\n",
       "      <td>-80.577366</td>\n",
       "      <td>28.561857</td>\n",
       "    </tr>\n",
       "    <tr>\n",
       "      <th>2</th>\n",
       "      <td>10</td>\n",
       "      <td>2013-03-01</td>\n",
       "      <td>Falcon 9</td>\n",
       "      <td>677.0</td>\n",
       "      <td>ISS</td>\n",
       "      <td>CCSFS SLC 40</td>\n",
       "      <td>0</td>\n",
       "      <td>1</td>\n",
       "      <td>False</td>\n",
       "      <td>False</td>\n",
       "      <td>False</td>\n",
       "      <td>NaN</td>\n",
       "      <td>1.0</td>\n",
       "      <td>0</td>\n",
       "      <td>B0007</td>\n",
       "      <td>-80.577366</td>\n",
       "      <td>28.561857</td>\n",
       "    </tr>\n",
       "    <tr>\n",
       "      <th>3</th>\n",
       "      <td>11</td>\n",
       "      <td>2013-09-29</td>\n",
       "      <td>Falcon 9</td>\n",
       "      <td>500.0</td>\n",
       "      <td>PO</td>\n",
       "      <td>VAFB SLC 4E</td>\n",
       "      <td>0</td>\n",
       "      <td>1</td>\n",
       "      <td>False</td>\n",
       "      <td>False</td>\n",
       "      <td>False</td>\n",
       "      <td>NaN</td>\n",
       "      <td>1.0</td>\n",
       "      <td>0</td>\n",
       "      <td>B1003</td>\n",
       "      <td>-120.610829</td>\n",
       "      <td>34.632093</td>\n",
       "    </tr>\n",
       "    <tr>\n",
       "      <th>4</th>\n",
       "      <td>12</td>\n",
       "      <td>2013-12-03</td>\n",
       "      <td>Falcon 9</td>\n",
       "      <td>3170.0</td>\n",
       "      <td>GTO</td>\n",
       "      <td>CCSFS SLC 40</td>\n",
       "      <td>0</td>\n",
       "      <td>1</td>\n",
       "      <td>False</td>\n",
       "      <td>False</td>\n",
       "      <td>False</td>\n",
       "      <td>NaN</td>\n",
       "      <td>1.0</td>\n",
       "      <td>0</td>\n",
       "      <td>B1004</td>\n",
       "      <td>-80.577366</td>\n",
       "      <td>28.561857</td>\n",
       "    </tr>\n",
       "  </tbody>\n",
       "</table>\n",
       "</div>"
      ],
      "text/plain": [
       "   FlightNumber        Date BoosterVersion  PayloadMass Orbit    LaunchSite  \\\n",
       "0             6  2010-06-04       Falcon 9          NaN   LEO  CCSFS SLC 40   \n",
       "1             8  2012-05-22       Falcon 9        525.0   LEO  CCSFS SLC 40   \n",
       "2            10  2013-03-01       Falcon 9        677.0   ISS  CCSFS SLC 40   \n",
       "3            11  2013-09-29       Falcon 9        500.0    PO   VAFB SLC 4E   \n",
       "4            12  2013-12-03       Falcon 9       3170.0   GTO  CCSFS SLC 40   \n",
       "\n",
       "   Outcome  Flights  GridFins  Reused   Legs LandingPad  Block  ReusedCount  \\\n",
       "0        0        1     False   False  False        NaN    1.0            0   \n",
       "1        0        1     False   False  False        NaN    1.0            0   \n",
       "2        0        1     False   False  False        NaN    1.0            0   \n",
       "3        0        1     False   False  False        NaN    1.0            0   \n",
       "4        0        1     False   False  False        NaN    1.0            0   \n",
       "\n",
       "  Serial   Longitude   Latitude  \n",
       "0  B0003  -80.577366  28.561857  \n",
       "1  B0005  -80.577366  28.561857  \n",
       "2  B0007  -80.577366  28.561857  \n",
       "3  B1003 -120.610829  34.632093  \n",
       "4  B1004  -80.577366  28.561857  "
      ]
     },
     "execution_count": 2,
     "metadata": {},
     "output_type": "execute_result"
    }
   ],
   "source": [
    "df = pd.read_csv(\"data\\data_from_api.csv\")\n",
    "df.head()"
   ]
  },
  {
   "cell_type": "markdown",
   "id": "86de833b",
   "metadata": {},
   "source": [
    "## Data Overview"
   ]
  },
  {
   "cell_type": "code",
   "execution_count": 3,
   "id": "0600e630",
   "metadata": {},
   "outputs": [
    {
     "name": "stdout",
     "output_type": "stream",
     "text": [
      "<class 'pandas.core.frame.DataFrame'>\n",
      "RangeIndex: 168 entries, 0 to 167\n",
      "Data columns (total 17 columns):\n",
      " #   Column          Non-Null Count  Dtype  \n",
      "---  ------          --------------  -----  \n",
      " 0   FlightNumber    168 non-null    int64  \n",
      " 1   Date            168 non-null    object \n",
      " 2   BoosterVersion  168 non-null    object \n",
      " 3   PayloadMass     146 non-null    float64\n",
      " 4   Orbit           167 non-null    object \n",
      " 5   LaunchSite      168 non-null    object \n",
      " 6   Outcome         168 non-null    int64  \n",
      " 7   Flights         168 non-null    int64  \n",
      " 8   GridFins        168 non-null    bool   \n",
      " 9   Reused          168 non-null    bool   \n",
      " 10  Legs            168 non-null    bool   \n",
      " 11  LandingPad      142 non-null    object \n",
      " 12  Block           168 non-null    float64\n",
      " 13  ReusedCount     168 non-null    int64  \n",
      " 14  Serial          168 non-null    object \n",
      " 15  Longitude       168 non-null    float64\n",
      " 16  Latitude        168 non-null    float64\n",
      "dtypes: bool(3), float64(4), int64(4), object(6)\n",
      "memory usage: 19.0+ KB\n"
     ]
    }
   ],
   "source": [
    "df.info()"
   ]
  },
  {
   "cell_type": "code",
   "execution_count": 4,
   "id": "4b3150d3",
   "metadata": {},
   "outputs": [
    {
     "name": "stdout",
     "output_type": "stream",
     "text": [
      "The dataset has 6 categorical variables: ['Date', 'BoosterVersion', 'Orbit', 'LaunchSite', 'LandingPad', 'Serial']\n",
      "The dataset has 11 numerical variables: ['FlightNumber', 'PayloadMass', 'Outcome', 'Flights', 'GridFins', 'Reused', 'Legs', 'Block', 'ReusedCount', 'Longitude', 'Latitude']\n"
     ]
    }
   ],
   "source": [
    "categorical_variables = [col for col in df.columns if df[col].dtypes == 'O']\n",
    "numerical_variables = [col for col in df.columns if df[col].dtypes != 'O']\n",
    "\n",
    "print(f'The dataset has {len(categorical_variables)} categorical variables: {categorical_variables}')\n",
    "print(f'The dataset has {len(numerical_variables)} numerical variables: {numerical_variables}')"
   ]
  },
  {
   "cell_type": "markdown",
   "id": "129c11f3",
   "metadata": {},
   "source": [
    "## Converting Date from object to date"
   ]
  },
  {
   "cell_type": "code",
   "execution_count": 5,
   "id": "aa443392",
   "metadata": {},
   "outputs": [],
   "source": [
    "df['Date'] = pd.to_datetime(df['Date'])"
   ]
  },
  {
   "cell_type": "code",
   "execution_count": 6,
   "id": "511a26ff",
   "metadata": {},
   "outputs": [
    {
     "name": "stdout",
     "output_type": "stream",
     "text": [
      "<class 'pandas.core.frame.DataFrame'>\n",
      "RangeIndex: 168 entries, 0 to 167\n",
      "Data columns (total 1 columns):\n",
      " #   Column  Non-Null Count  Dtype         \n",
      "---  ------  --------------  -----         \n",
      " 0   Date    168 non-null    datetime64[ns]\n",
      "dtypes: datetime64[ns](1)\n",
      "memory usage: 1.4 KB\n"
     ]
    }
   ],
   "source": [
    "df[['Date']].info()"
   ]
  },
  {
   "cell_type": "markdown",
   "id": "1711ce84",
   "metadata": {},
   "source": [
    "## Missing Values"
   ]
  },
  {
   "cell_type": "code",
   "execution_count": 7,
   "id": "7408f77a",
   "metadata": {},
   "outputs": [
    {
     "data": {
      "text/plain": [
       "FlightNumber       0\n",
       "Date               0\n",
       "BoosterVersion     0\n",
       "PayloadMass       22\n",
       "Orbit              1\n",
       "LaunchSite         0\n",
       "Outcome            0\n",
       "Flights            0\n",
       "GridFins           0\n",
       "Reused             0\n",
       "Legs               0\n",
       "LandingPad        26\n",
       "Block              0\n",
       "ReusedCount        0\n",
       "Serial             0\n",
       "Longitude          0\n",
       "Latitude           0\n",
       "dtype: int64"
      ]
     },
     "execution_count": 7,
     "metadata": {},
     "output_type": "execute_result"
    }
   ],
   "source": [
    "df.isna().sum(axis=0)"
   ]
  },
  {
   "cell_type": "markdown",
   "id": "013b93cf",
   "metadata": {},
   "source": [
    "### Imputing Missing PayloadMass"
   ]
  },
  {
   "cell_type": "code",
   "execution_count": 8,
   "id": "f4e00a75",
   "metadata": {},
   "outputs": [
    {
     "data": {
      "image/png": "[encoded data removed]",
      "text/plain": [
       "<Figure size 640x480 with 1 Axes>"
      ]
     },
     "metadata": {},
     "output_type": "display_data"
    }
   ],
   "source": [
    "sns.histplot(df['PayloadMass'], bins= 8, kde=True)\n",
    "plt.show()"
   ]
  },
  {
   "cell_type": "markdown",
   "id": "392c3d02",
   "metadata": {},
   "source": [
    "The histogram for payload mass shows a multi-modal distribution, indicating that SpaceX launches a variety of missions with distinct mass requirements. There isn't a single most common payload mass.\n",
    "\n",
    "For the EDA stage, we will use the mean to impute missing payload mass values for simplicity. Later, during model building, we will apply KNNImputer for a more robust imputation approach."
   ]
  },
  {
   "cell_type": "code",
   "execution_count": 9,
   "id": "df3f9b7a",
   "metadata": {},
   "outputs": [
    {
     "name": "stdout",
     "output_type": "stream",
     "text": [
      "8191.079109589042\n",
      "6780.5\n"
     ]
    },
    {
     "data": {
      "text/html": [
       "<div>\n",
       "<style scoped>\n",
       "    .dataframe tbody tr th:only-of-type {\n",
       "        vertical-align: middle;\n",
       "    }\n",
       "\n",
       "    .dataframe tbody tr th {\n",
       "        vertical-align: top;\n",
       "    }\n",
       "\n",
       "    .dataframe thead th {\n",
       "        text-align: right;\n",
       "    }\n",
       "</style>\n",
       "<table border=\"1\" class=\"dataframe\">\n",
       "  <thead>\n",
       "    <tr style=\"text-align: right;\">\n",
       "      <th></th>\n",
       "      <th>PayloadMass</th>\n",
       "    </tr>\n",
       "  </thead>\n",
       "  <tbody>\n",
       "    <tr>\n",
       "      <th>count</th>\n",
       "      <td>146.000000</td>\n",
       "    </tr>\n",
       "    <tr>\n",
       "      <th>mean</th>\n",
       "      <td>8191.079110</td>\n",
       "    </tr>\n",
       "    <tr>\n",
       "      <th>std</th>\n",
       "      <td>5521.332964</td>\n",
       "    </tr>\n",
       "    <tr>\n",
       "      <th>min</th>\n",
       "      <td>330.000000</td>\n",
       "    </tr>\n",
       "    <tr>\n",
       "      <th>25%</th>\n",
       "      <td>3025.000000</td>\n",
       "    </tr>\n",
       "    <tr>\n",
       "      <th>50%</th>\n",
       "      <td>6780.500000</td>\n",
       "    </tr>\n",
       "    <tr>\n",
       "      <th>75%</th>\n",
       "      <td>13260.000000</td>\n",
       "    </tr>\n",
       "    <tr>\n",
       "      <th>max</th>\n",
       "      <td>15600.000000</td>\n",
       "    </tr>\n",
       "  </tbody>\n",
       "</table>\n",
       "</div>"
      ],
      "text/plain": [
       "        PayloadMass\n",
       "count    146.000000\n",
       "mean    8191.079110\n",
       "std     5521.332964\n",
       "min      330.000000\n",
       "25%     3025.000000\n",
       "50%     6780.500000\n",
       "75%    13260.000000\n",
       "max    15600.000000"
      ]
     },
     "execution_count": 9,
     "metadata": {},
     "output_type": "execute_result"
    }
   ],
   "source": [
    "print(df['PayloadMass'].mean())\n",
    "print(df['PayloadMass'].median())\n",
    "df[['PayloadMass']].describe()"
   ]
  },
  {
   "cell_type": "code",
   "execution_count": 10,
   "id": "5394d246",
   "metadata": {},
   "outputs": [
    {
     "data": {
      "text/plain": [
       "np.float64(0.10767111993981028)"
      ]
     },
     "execution_count": 10,
     "metadata": {},
     "output_type": "execute_result"
    }
   ],
   "source": [
    "df['PayloadMass'].skew()"
   ]
  },
  {
   "cell_type": "code",
   "execution_count": 11,
   "id": "fb691935",
   "metadata": {},
   "outputs": [],
   "source": [
    "df['PayloadMass'] = df['PayloadMass'].fillna(df['PayloadMass'].mean())"
   ]
  },
  {
   "cell_type": "markdown",
   "id": "cec5c52d",
   "metadata": {},
   "source": [
    "#### Imputing Missing LandingPad"
   ]
  },
  {
   "cell_type": "code",
   "execution_count": 12,
   "id": "19592923",
   "metadata": {},
   "outputs": [
    {
     "data": {
      "text/plain": [
       "LandingPad\n",
       "LZ-1      57\n",
       "OCISLY    39\n",
       "NaN       26\n",
       "JRTI      20\n",
       "LZ-2      18\n",
       "LZ-4       6\n",
       "ASOG       2\n",
       "Name: count, dtype: int64"
      ]
     },
     "execution_count": 12,
     "metadata": {},
     "output_type": "execute_result"
    }
   ],
   "source": [
    "df['LandingPad'].value_counts(dropna= False)"
   ]
  },
  {
   "cell_type": "markdown",
   "id": "c8bd6604",
   "metadata": {},
   "source": [
    "Here, NaN does not indicate missing values, but boosters without a landing pad"
   ]
  },
  {
   "cell_type": "code",
   "execution_count": 13,
   "id": "02537b32",
   "metadata": {},
   "outputs": [],
   "source": [
    "df['LandingPad'] = df['LandingPad'].fillna('No Pad')"
   ]
  },
  {
   "cell_type": "code",
   "execution_count": 14,
   "id": "b59140cb",
   "metadata": {},
   "outputs": [
    {
     "data": {
      "text/plain": [
       "LandingPad\n",
       "LZ-1      57\n",
       "OCISLY    39\n",
       "No Pad    26\n",
       "JRTI      20\n",
       "LZ-2      18\n",
       "LZ-4       6\n",
       "ASOG       2\n",
       "Name: count, dtype: int64"
      ]
     },
     "execution_count": 14,
     "metadata": {},
     "output_type": "execute_result"
    }
   ],
   "source": [
    "df['LandingPad'].value_counts(dropna= False)"
   ]
  },
  {
   "cell_type": "markdown",
   "id": "a41c3787",
   "metadata": {},
   "source": [
    "### Imputing Missing Orbit"
   ]
  },
  {
   "cell_type": "code",
   "execution_count": 15,
   "id": "8af3d5b3",
   "metadata": {},
   "outputs": [
    {
     "data": {
      "text/plain": [
       "Orbit\n",
       "VLEO     54\n",
       "ISS      32\n",
       "GTO      31\n",
       "LEO      14\n",
       "PO       13\n",
       "SSO      11\n",
       "MEO       5\n",
       "GEO       2\n",
       "TLI       2\n",
       "ES-L1     1\n",
       "HEO       1\n",
       "SO        1\n",
       "Name: count, dtype: int64"
      ]
     },
     "execution_count": 15,
     "metadata": {},
     "output_type": "execute_result"
    }
   ],
   "source": [
    "df['Orbit'].value_counts()"
   ]
  },
  {
   "cell_type": "code",
   "execution_count": 16,
   "id": "6e8bb035",
   "metadata": {},
   "outputs": [
    {
     "data": {
      "text/html": [
       "<div>\n",
       "<style scoped>\n",
       "    .dataframe tbody tr th:only-of-type {\n",
       "        vertical-align: middle;\n",
       "    }\n",
       "\n",
       "    .dataframe tbody tr th {\n",
       "        vertical-align: top;\n",
       "    }\n",
       "\n",
       "    .dataframe thead th {\n",
       "        text-align: right;\n",
       "    }\n",
       "</style>\n",
       "<table border=\"1\" class=\"dataframe\">\n",
       "  <thead>\n",
       "    <tr style=\"text-align: right;\">\n",
       "      <th></th>\n",
       "      <th>FlightNumber</th>\n",
       "      <th>Date</th>\n",
       "      <th>BoosterVersion</th>\n",
       "      <th>PayloadMass</th>\n",
       "      <th>Orbit</th>\n",
       "      <th>LaunchSite</th>\n",
       "      <th>Outcome</th>\n",
       "      <th>Flights</th>\n",
       "      <th>GridFins</th>\n",
       "      <th>Reused</th>\n",
       "      <th>Legs</th>\n",
       "      <th>LandingPad</th>\n",
       "      <th>Block</th>\n",
       "      <th>ReusedCount</th>\n",
       "      <th>Serial</th>\n",
       "      <th>Longitude</th>\n",
       "      <th>Latitude</th>\n",
       "    </tr>\n",
       "  </thead>\n",
       "  <tbody>\n",
       "    <tr>\n",
       "      <th>95</th>\n",
       "      <td>112</td>\n",
       "      <td>2020-12-19</td>\n",
       "      <td>Falcon 9</td>\n",
       "      <td>8191.07911</td>\n",
       "      <td>NaN</td>\n",
       "      <td>KSC LC 39A</td>\n",
       "      <td>1</td>\n",
       "      <td>5</td>\n",
       "      <td>True</td>\n",
       "      <td>True</td>\n",
       "      <td>True</td>\n",
       "      <td>LZ-2</td>\n",
       "      <td>5.0</td>\n",
       "      <td>5</td>\n",
       "      <td>B1059</td>\n",
       "      <td>-80.603956</td>\n",
       "      <td>28.608058</td>\n",
       "    </tr>\n",
       "  </tbody>\n",
       "</table>\n",
       "</div>"
      ],
      "text/plain": [
       "    FlightNumber       Date BoosterVersion  PayloadMass Orbit  LaunchSite  \\\n",
       "95           112 2020-12-19       Falcon 9   8191.07911   NaN  KSC LC 39A   \n",
       "\n",
       "    Outcome  Flights  GridFins  Reused  Legs LandingPad  Block  ReusedCount  \\\n",
       "95        1        5      True    True  True       LZ-2    5.0            5   \n",
       "\n",
       "   Serial  Longitude   Latitude  \n",
       "95  B1059 -80.603956  28.608058  "
      ]
     },
     "execution_count": 16,
     "metadata": {},
     "output_type": "execute_result"
    }
   ],
   "source": [
    "df[df['Orbit'].isna()]"
   ]
  },
  {
   "cell_type": "markdown",
   "id": "f66c4c49",
   "metadata": {},
   "source": [
    "From NextSpaceFlight, we can see that for this flight, the Orbit and PayloadMass details were initially undisclosed. Later, the orbit details were shown as Low Earth Orbit(LEO)\n",
    "Source: https://nextspaceflight.com/launches/details/5112"
   ]
  },
  {
   "cell_type": "code",
   "execution_count": 17,
   "id": "e09fe881",
   "metadata": {},
   "outputs": [],
   "source": [
    "df.loc[95, 'Orbit'] = \"LEO\""
   ]
  },
  {
   "cell_type": "markdown",
   "id": "ec2cceac",
   "metadata": {},
   "source": [
    "## Duplicated Values"
   ]
  },
  {
   "cell_type": "code",
   "execution_count": 18,
   "id": "20174147",
   "metadata": {},
   "outputs": [
    {
     "data": {
      "text/plain": [
       "np.int64(0)"
      ]
     },
     "execution_count": 18,
     "metadata": {},
     "output_type": "execute_result"
    }
   ],
   "source": [
    "df.duplicated().sum()"
   ]
  },
  {
   "cell_type": "markdown",
   "id": "80084687",
   "metadata": {},
   "source": [
    "There is no duplicate entries in the data."
   ]
  },
  {
   "cell_type": "markdown",
   "id": "77508c46",
   "metadata": {},
   "source": [
    "## Saving data to csv"
   ]
  },
  {
   "cell_type": "code",
   "execution_count": 20,
   "id": "9fd94758",
   "metadata": {},
   "outputs": [],
   "source": [
    "df.to_csv('data/data_cleaned.csv', header= True, index= False)"
   ]
  }
 ],
 "metadata": {
  "kernelspec": {
   "display_name": "Python 3",
   "language": "python",
   "name": "python3"
  },
  "language_info": {
   "codemirror_mode": {
    "name": "ipython",
    "version": 3
   },
   "file_extension": ".py",
   "mimetype": "text/x-python",
   "name": "python",
   "nbconvert_exporter": "python",
   "pygments_lexer": "ipython3",
   "version": "3.11.13"
  }
 },
 "nbformat": 4,
 "nbformat_minor": 5
}
